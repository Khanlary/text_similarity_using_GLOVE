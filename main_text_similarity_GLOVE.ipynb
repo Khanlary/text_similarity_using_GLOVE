{
  "nbformat": 4,
  "nbformat_minor": 0,
  "metadata": {
    "colab": {
      "name": "main_text_similarity_GLOVE.ipynb",
      "provenance": [],
      "collapsed_sections": [],
      "authorship_tag": "ABX9TyN155oZ+mkWS3Xq+TIOITpB",
      "include_colab_link": true
    },
    "kernelspec": {
      "name": "python3",
      "display_name": "Python 3"
    },
    "accelerator": "GPU"
  },
  "cells": [
    {
      "cell_type": "markdown",
      "metadata": {
        "id": "view-in-github",
        "colab_type": "text"
      },
      "source": [
        "<a href=\"https://colab.research.google.com/github/abhijitsahoo0790/text_similarity_using_GLOVE/blob/master/main_text_similarity_GLOVE.ipynb\" target=\"_parent\"><img src=\"https://colab.research.google.com/assets/colab-badge.svg\" alt=\"Open In Colab\"/></a>"
      ]
    },
    {
      "cell_type": "code",
      "metadata": {
        "id": "WW-geQp6p-9D",
        "colab_type": "code",
        "colab": {
          "base_uri": "https://localhost:8080/",
          "height": 121
        },
        "outputId": "9da72982-3852-466e-9d23-27591f003015"
      },
      "source": [
        "from os.path import join\n",
        "from google.colab import drive\n",
        "\n",
        "ROOT = \"/content/drive\"\n",
        "drive.mount(ROOT)"
      ],
      "execution_count": 2,
      "outputs": [
        {
          "output_type": "stream",
          "text": [
            "Go to this URL in a browser: https://accounts.google.com/o/oauth2/auth?client_id=947318989803-6bn6qk8qdgf4n4g3pfee6491hc0brc4i.apps.googleusercontent.com&redirect_uri=urn%3aietf%3awg%3aoauth%3a2.0%3aoob&response_type=code&scope=email%20https%3a%2f%2fwww.googleapis.com%2fauth%2fdocs.test%20https%3a%2f%2fwww.googleapis.com%2fauth%2fdrive%20https%3a%2f%2fwww.googleapis.com%2fauth%2fdrive.photos.readonly%20https%3a%2f%2fwww.googleapis.com%2fauth%2fpeopleapi.readonly\n",
            "\n",
            "Enter your authorization code:\n",
            "··········\n",
            "Mounted at /content/drive\n"
          ],
          "name": "stdout"
        }
      ]
    },
    {
      "cell_type": "code",
      "metadata": {
        "id": "Ms0KyBasqL7L",
        "colab_type": "code",
        "colab": {}
      },
      "source": [
        "\"\"\"\n",
        "For creating a new project in GitHub, it will throw error if it is executed after the project dir is created\n",
        "\"\"\"\n",
        "PROJ = \"My Drive/Colab Notebooks/text_similarity_using_GLOVE\" # This is a custom path.\n",
        "PROJECT_PATH = join(ROOT, PROJ)\n",
        "!mkdir \"{PROJECT_PATH}\"\n",
        "!git clone https://github.com/abhijitsahoo0790/text_similarity_using_GLOVE.git \"{PROJECT_PATH}\"\n"
      ],
      "execution_count": null,
      "outputs": []
    },
    {
      "cell_type": "code",
      "metadata": {
        "id": "BOhFTnyr8BdU",
        "colab_type": "code",
        "colab": {}
      },
      "source": [
        "#This will download and unzip the data in the desired filder as specified by DATA_PATH\n",
        "DATA_PATH = \"My Drive/Datasets/glove.6B\"\n",
        "DATA_DESTINATION_PATH = join(ROOT, DATA_PATH)\n",
        "!mkdir \"{DATA_DESTINATION_PATH}\"\n",
        "!wget http://nlp.stanford.edu/data/glove.6B.zip - -P \"{DATA_DESTINATION_PATH}\"\n",
        "!unzip glove.6B.zip -d \"{DATA_DESTINATION_PATH}\""
      ],
      "execution_count": null,
      "outputs": []
    },
    {
      "cell_type": "code",
      "metadata": {
        "id": "7tQV4ZIsr85Q",
        "colab_type": "code",
        "colab": {
          "base_uri": "https://localhost:8080/",
          "height": 370
        },
        "outputId": "05622daa-c5f9-4c39-fb36-caf2732c1257"
      },
      "source": [
        "\"\"\"\n",
        "For updating an existing project from GitHub\n",
        "\"\"\"\n",
        "ROOT = \"/content/drive\"\n",
        "PROJ = \"My Drive/Colab Notebooks/text_similarity_using_GLOVE\" # This is a custom path.\n",
        "PROJECT_PATH = join(ROOT, PROJ)\n",
        "%cd \"{PROJECT_PATH}\"\n",
        "!git pull origin master"
      ],
      "execution_count": 5,
      "outputs": [
        {
          "output_type": "stream",
          "text": [
            "/content/drive/My Drive/Colab Notebooks/text_similarity_using_GLOVE\n",
            "remote: Enumerating objects: 4, done.\u001b[K\n",
            "remote: Counting objects: 100% (4/4), done.\u001b[K\n",
            "remote: Compressing objects: 100% (3/3), done.\u001b[K\n",
            "remote: Total 3 (delta 1), reused 0 (delta 0), pack-reused 0\u001b[K\n",
            "Unpacking objects: 100% (3/3), done.\n",
            "From https://github.com/abhijitsahoo0790/text_similarity_using_GLOVE\n",
            " * branch            master     -> FETCH_HEAD\n",
            "   cce28b3..94fdf37  master     -> origin/master\n",
            "\n",
            "*** Please tell me who you are.\n",
            "\n",
            "Run\n",
            "\n",
            "  git config --global user.email \"you@example.com\"\n",
            "  git config --global user.name \"Your Name\"\n",
            "\n",
            "to set your account's default identity.\n",
            "Omit --global to set the identity only in this repository.\n",
            "\n",
            "fatal: unable to auto-detect email address (got 'root@b88a469a2d66.(none)')\n"
          ],
          "name": "stdout"
        }
      ]
    },
    {
      "cell_type": "code",
      "metadata": {
        "id": "w99fua5c8tYk",
        "colab_type": "code",
        "colab": {}
      },
      "source": [
        "!git config --global user.email \"abhijitsahoo0790@gmail.com\"\n",
        "!git config --global user.name \"Abhijit\""
      ],
      "execution_count": 6,
      "outputs": []
    },
    {
      "cell_type": "code",
      "metadata": {
        "id": "CHVQ0DyBMiaM",
        "colab_type": "code",
        "colab": {
          "base_uri": "https://localhost:8080/",
          "height": 67
        },
        "outputId": "bf1a0904-6f3d-4655-d25d-8b096edf04d4"
      },
      "source": [
        "!git add -A\n",
        "!git commit -a -m \"added all two functions to the notebook from python file\""
      ],
      "execution_count": 10,
      "outputs": [
        {
          "output_type": "stream",
          "text": [
            "[master 7d6f3d4] added all two functions to the notebook from python file\n",
            " 1 file changed, 1 insertion(+), 1 deletion(-)\n",
            " rewrite main_text_similarity_GLOVE.ipynb (81%)\n"
          ],
          "name": "stdout"
        }
      ]
    },
    {
      "cell_type": "code",
      "metadata": {
        "id": "_keCgMpFIrVB",
        "colab_type": "code",
        "colab": {}
      },
      "source": [
        "import pandas as pd\n",
        "import numpy as np\n",
        "import copy\n",
        "import math\n",
        "from scipy import spatial\n",
        "import os\n",
        "from os.path import join\n",
        "import sys\n",
        "import traceback\n",
        "import logging\n",
        "logging.basicConfig(format='%(asctime)s %(levelname)-8s %(message)s', \n",
        "                    filename='log.txt', filemode='w', level=logging.DEBUG, \n",
        "                    datefmt='%Y-%m-%d %H:%M:%S')"
      ],
      "execution_count": 8,
      "outputs": []
    },
    {
      "cell_type": "code",
      "metadata": {
        "id": "oFlP8H3eItgp",
        "colab_type": "code",
        "colab": {}
      },
      "source": [
        "ROOT = \"/content/drive\"\n",
        "DATA_PATH = \"My Drive/Datasets/glove.6B/\"\n",
        "DATA_DESTINATION_PATH = join(ROOT, DATA_PATH)\n",
        "\n",
        "PATH_GLOVE_VECTORS = DATA_DESTINATION_PATH\n",
        "LIST_GLOVE_FILES = [\"glove.6B.50d\", \"glove.6B.100d\", \"glove.6B.200d\", \"glove.6B.300d\"]"
      ],
      "execution_count": 9,
      "outputs": []
    },
    {
      "cell_type": "code",
      "metadata": {
        "id": "X3Br1M3_JB1M",
        "colab_type": "code",
        "colab": {}
      },
      "source": [
        "def read_word_vectors_as_text(vector_file_index=1):\n",
        "    \"\"\"\n",
        "    Read GLOVE vectors from the appropriate file using vector_file_index as the\n",
        "    index over the list of file names stored in LIST_GLOVE_FILES.\n",
        "\n",
        "    Parameters\n",
        "    ----------\n",
        "    vector_file_index : int, optional\n",
        "        The index to select the name of the file to be read from the list of \n",
        "        files in LIST_GLOVE_FILES. The default is 1.\n",
        "\n",
        "    Returns\n",
        "    -------\n",
        "    word_vectors_text : str\n",
        "        The content of the file that is read or None is file doesn't exist'\n",
        "    \"\"\"\n",
        "    #Combining filename and path to create the final path of the file to be read    \n",
        "    word_vector_path = PATH_GLOVE_VECTORS + LIST_GLOVE_FILES[vector_file_index]\n",
        "    logging.info(\"Path of word vector file is :\"+ word_vector_path)\n",
        "    logging.info(\"Reading :\"+ word_vector_path)\n",
        "    \n",
        "    if os.path.exists(word_vector_path+\".txt\"):\n",
        "        with open(word_vector_path+\".txt\", \"r\", encoding='utf-8') as f:\n",
        "            try:\n",
        "                word_vectors_text = f.read()\n",
        "                if len(word_vectors_text):\n",
        "                    logging.info(\"file read successfully!\")\n",
        "                else:\n",
        "                    logging.warning(\"empty file read\")\n",
        "                return word_vectors_text\n",
        "            except Exception as e:\n",
        "                logging.error(traceback.format_exc(e))\n",
        "    else:\n",
        "        logging.warning(\"The file doesn't exist\")\n",
        "        return None"
      ],
      "execution_count": 7,
      "outputs": []
    },
    {
      "cell_type": "code",
      "metadata": {
        "id": "uYUhBoJuYHhj",
        "colab_type": "code",
        "colab": {}
      },
      "source": [
        "def convert_str_to_float(list1):\n",
        "    \"\"\"\n",
        "    Convert list of strings to its respective floating point numbers. \n",
        "\n",
        "    Parameters\n",
        "    ----------\n",
        "    list1 : list of str\n",
        "        Word vector in list of str format.\n",
        "\n",
        "    Returns\n",
        "    -------\n",
        "     : list of float\n",
        "        Word vector in list of float format.\n",
        "    \"\"\"\n",
        "  return [float(item) for item in list1]\n",
        "\n",
        "def add(list1, list2):\n",
        "    \"\"\"\n",
        "    Add two real-valued lists and return the resultant list\n",
        "\n",
        "    Parameters\n",
        "    ----------\n",
        "    list1 : list\n",
        "        Word vector in list of float.\n",
        "    list2 : list\n",
        "        Word vector in list of float.\n",
        "\n",
        "    Returns\n",
        "    -------\n",
        "     : list of float\n",
        "        List of resultant float\n",
        "        \n",
        "    \"\"\"\n",
        "    return [list1[i]+list2[i] for i in range(0, len(list1))]\n",
        "\n",
        "def sub(list1, list2):\n",
        "    \"\"\"\n",
        "    Subtract two real-valued lists and return the resultant list\n",
        "\n",
        "    Parameters\n",
        "    ----------\n",
        "    list1 : list\n",
        "        Word vector in list of float.\n",
        "    list2 : list\n",
        "        Word vector in list of float.\n",
        "\n",
        "    Returns\n",
        "    -------\n",
        "     : list of float\n",
        "        List of resultant float\n",
        "        \n",
        "    \"\"\"\n",
        "    return [list1[i]-list2[i] for i in range(0, len(list1))]"
      ],
      "execution_count": 11,
      "outputs": []
    },
    {
      "cell_type": "code",
      "metadata": {
        "id": "zNYBn7f_JNa3",
        "colab_type": "code",
        "colab": {}
      },
      "source": [
        "def create_word_vector_dictionary_from_text(word_vectors_text):\n",
        "    \"\"\"\n",
        "    create word vector for each word by parsing the text file \n",
        "\n",
        "    Parameters\n",
        "    ----------\n",
        "    word_vectors_text : str\n",
        "        Content of word to vector file in text format.\n",
        "\n",
        "    Returns\n",
        "    -------\n",
        "    word_vector_dict : dict\n",
        "        Dictionary with word as keys and value as its corrosponding vector.\n",
        "    \"\"\"\n",
        "    word_vector_dict={}\n",
        "    lines = word_vectors_text.split('\\n')\n",
        "    for line in lines:\n",
        "        temp = line.split(\" \")\n",
        "        word_vector_dict[temp[0]] = convert_str_to_float(temp[1:])\n",
        "    return word_vector_dict"
      ],
      "execution_count": 8,
      "outputs": []
    },
    {
      "cell_type": "code",
      "metadata": {
        "id": "UpUelHwmfAbC",
        "colab_type": "code",
        "colab": {}
      },
      "source": [
        "def find_most_similar_one(vec0, word_list):\n",
        "    \"\"\"\n",
        "    find the most closest word vector to the input vector and return the word\n",
        "\n",
        "    Parameters\n",
        "    ----------\n",
        "    vec0 : list of real-valued numbers\n",
        "        Word vector in list of float.\n",
        "    list2 : list of str\n",
        "        List of words whose vectors are used to construct vec0.\n",
        "\n",
        "    Returns\n",
        "    -------\n",
        "    best_word : str\n",
        "        The closest word to the input vector vec0    \n",
        "    \"\"\"\n",
        "    #Initialize with very large negative number\n",
        "    max_score=-100\n",
        "    best_word=\"\"\n",
        "\n",
        "    #Iterate over the entire word vector dictionary and retain the closest word so far\n",
        "    for item in word_vector_dict:\n",
        "      try:\n",
        "        #print (item)\n",
        "        if item not in word_list:\n",
        "          vec1 = convert_str_to_float(word_vector_dict[item])\n",
        "          sim_score = 1 - spatial.distance.cosine(vec1, vec0)\n",
        "          if sim_score > max_score:\n",
        "            max_score = sim_score\n",
        "            best_word = item\n",
        "          #print (item, sim_score)\n",
        "          #print (\"====>\",best_word, max_score)\n",
        "      except:\n",
        "        pass  \n",
        "\n",
        "    return best_word"
      ],
      "execution_count": 12,
      "outputs": []
    },
    {
      "cell_type": "code",
      "metadata": {
        "id": "tnF6kbfaxZ3P",
        "colab_type": "code",
        "colab": {}
      },
      "source": [
        "def convert_text_to_vec(text1):\n",
        "  words = "
      ],
      "execution_count": null,
      "outputs": []
    },
    {
      "cell_type": "code",
      "metadata": {
        "id": "O73YffBNJP8Z",
        "colab_type": "code",
        "colab": {}
      },
      "source": [
        "if __name__ == \"__main__\":\n",
        "  #Read and store the word vectors in data structure\n",
        "  word_vectors_text = read_word_vectors_as_text(vector_file_index=3)\n",
        "  word_vector_dict = create_word_vector_dictionary_from_text(word_vectors_text)\n",
        "  del word_vectors_text\n",
        "\n",
        "  \"\"\"\n",
        "  Find the related fourth word with the inter-relation of these 3 words  \n",
        "  \"\"\"\n",
        "  #Initialize 3 word vectors to find the fourth related words\n",
        "  vec1 = word_vector_dict[\"delhi\"]\n",
        "  vec2 = word_vector_dict[\"india\"]\n",
        "  vec3 = word_vector_dict[\"germany\"]  \n",
        "\n",
        "  # Delhi - India + Germany ===> It infers \"Berlin\"\n",
        "  vec_new = add(sub(vec1,vec2),vec3)\n",
        "  inferred_word = find_most_similar_one(vec_new, [\"delhi\",\"india\",\"germany\"])\n",
        "  print (\"The inferred related word is:\", inferred_word)\n",
        "\n",
        "  \n",
        "  \"\"\"\n",
        "  Find similary score between any two words. Score of 100 indicates the words are \n",
        "  exactly related and a score of 0 indicate that the words are not at all related  \n",
        "  \"\"\"\n",
        "  vec1 = word_vector_dict[\"beautiful\"]\n",
        "  vec2 = word_vector_dict[\"gorgeous\"]\n",
        "  similarity_score = 1 - spatial.distance.cosine(vec1,vec2)\n",
        "  print(\"Similarity Score is =\", ((similarity_score+1.0)/2.0)*100, \"%\")\n",
        "\n",
        "\n",
        "\n",
        "  \"\"\"\n",
        "  Find similary score between any text pieces. Score of 100 indicates the texts are \n",
        "  exactly related and a score of 0 indicate that the texts are not at all related  \n",
        "  \"\"\"\n",
        "  text1 = \"god is great\"\n",
        "  text2 = \"all is well\"\n",
        "  vec1 = convert_text_to_vec(text1)\n",
        "  vec2 = convert_text_to_vec(text1)\n",
        "  similarity_score = 1 - spatial.distance.cosine(vec1,vec2)\n",
        "  print(\"Similarity Score is =\", ((similarity_score+1.0)/2.0)*100, \"%\")"
      ],
      "execution_count": null,
      "outputs": []
    },
    {
      "cell_type": "code",
      "metadata": {
        "id": "jU3t4Lhpf-zI",
        "colab_type": "code",
        "colab": {}
      },
      "source": [
        ""
      ],
      "execution_count": null,
      "outputs": []
    }
  ]
}