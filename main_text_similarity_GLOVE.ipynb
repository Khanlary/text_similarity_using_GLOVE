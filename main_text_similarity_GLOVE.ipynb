{
  "nbformat": 4,
  "nbformat_minor": 0,
  "metadata": {
    "colab": {
      "name": "main_text_similarity_GLOVE.ipynb",
      "provenance": [],
      "collapsed_sections": [],
      "include_colab_link": true
    },
    "kernelspec": {
      "name": "python3",
      "display_name": "Python 3"
    },
    "accelerator": "GPU"
  },
  "cells": [
    {
      "cell_type": "markdown",
      "metadata": {
        "id": "view-in-github",
        "colab_type": "text"
      },
      "source": [
        "<a href=\"https://colab.research.google.com/github/abhijitsahoo0790/text_similarity_using_GLOVE/blob/master/main_text_similarity_GLOVE.ipynb\" target=\"_parent\"><img src=\"https://colab.research.google.com/assets/colab-badge.svg\" alt=\"Open In Colab\"/></a>"
      ]
    },
    {
      "cell_type": "code",
      "metadata": {
        "id": "WW-geQp6p-9D",
        "colab_type": "code",
        "colab": {}
      },
      "source": [
        "from os.path import join\n",
        "from google.colab import drive\n",
        "\n",
        "ROOT = \"/content/drive\"\n",
        "drive.mount(ROOT)"
      ],
      "execution_count": null,
      "outputs": []
    },
    {
      "cell_type": "code",
      "metadata": {
        "id": "Ms0KyBasqL7L",
        "colab_type": "code",
        "colab": {}
      },
      "source": [
        "\"\"\"\n",
        "For creating a new project in GitHub, it will throw error if it is executed after the project dir is created\n",
        "\"\"\"\n",
        "PROJ = \"My Drive/Colab Notebooks/text_similarity_using_GLOVE\" # This is a custom path.\n",
        "PROJECT_PATH = join(ROOT, PROJ)\n",
        "!mkdir \"{PROJECT_PATH}\"\n",
        "!git clone https://github.com/abhijitsahoo0790/text_similarity_using_GLOVE.git \"{PROJECT_PATH}\"\n"
      ],
      "execution_count": null,
      "outputs": []
    },
    {
      "cell_type": "code",
      "metadata": {
        "id": "BOhFTnyr8BdU",
        "colab_type": "code",
        "colab": {}
      },
      "source": [
        "#This will download and unzip the data in the desired filder as specified by DATA_PATH\n",
        "DATA_PATH = \"My Drive/Datasets/glove.6B\"\n",
        "DATA_DESTINATION_PATH = join(ROOT, DATA_PATH)\n",
        "!mkdir \"{DATA_DESTINATION_PATH}\"\n",
        "!wget http://nlp.stanford.edu/data/glove.6B.zip - -P \"{DATA_DESTINATION_PATH}\"\n",
        "!unzip glove.6B.zip -d \"{DATA_DESTINATION_PATH}\""
      ],
      "execution_count": null,
      "outputs": []
    },
    {
      "cell_type": "code",
      "metadata": {
        "id": "w99fua5c8tYk",
        "colab_type": "code",
        "colab": {}
      },
      "source": [
        "!git config --global user.email \"abhijitsahoo0790@gmail.com\"\n",
        "!git config --global user.name \"Abhijit\""
      ],
      "execution_count": 3,
      "outputs": []
    },
    {
      "cell_type": "code",
      "metadata": {
        "id": "7tQV4ZIsr85Q",
        "colab_type": "code",
        "colab": {
          "base_uri": "https://localhost:8080/",
          "height": 134
        },
        "outputId": "08d4291a-f3c6-4c63-cdac-c0a7c5d2cb43"
      },
      "source": [
        "\"\"\"\n",
        "For updating an existing project from GitHub\n",
        "\"\"\"\n",
        "ROOT = \"/content/drive\"\n",
        "PROJ = \"My Drive/Colab Notebooks/text_similarity_using_GLOVE\" # This is a custom path.\n",
        "PROJECT_PATH = join(ROOT, PROJ)\n",
        "%cd \"{PROJECT_PATH}\"\n",
        "!git pull origin master"
      ],
      "execution_count": 4,
      "outputs": [
        {
          "output_type": "stream",
          "text": [
            "/content/drive/My Drive/Colab Notebooks/text_similarity_using_GLOVE\n",
            "From https://github.com/abhijitsahoo0790/text_similarity_using_GLOVE\n",
            " * branch            master     -> FETCH_HEAD\n",
            "error: Your local changes to the following files would be overwritten by merge:\n",
            "\tmain_text_similarity_GLOVE.ipynb\n",
            "Please commit your changes or stash them before you merge.\n",
            "Aborting\n"
          ],
          "name": "stdout"
        }
      ]
    },
    {
      "cell_type": "code",
      "metadata": {
        "id": "_keCgMpFIrVB",
        "colab_type": "code",
        "colab": {}
      },
      "source": [
        "import pandas as pd\n",
        "import numpy as np\n",
        "import copy\n",
        "import math\n",
        "from scipy import spatial\n",
        "import os\n",
        "from os.path import join\n",
        "import sys\n",
        "import traceback\n",
        "import logging\n",
        "logging.basicConfig(format='%(asctime)s %(levelname)-8s %(message)s', \n",
        "                    filename='log.txt', filemode='w', level=logging.DEBUG, \n",
        "                    datefmt='%Y-%m-%d %H:%M:%S')"
      ],
      "execution_count": 24,
      "outputs": []
    },
    {
      "cell_type": "code",
      "metadata": {
        "id": "oFlP8H3eItgp",
        "colab_type": "code",
        "colab": {}
      },
      "source": [
        "ROOT = \"/content/drive\"\n",
        "DATA_PATH = \"My Drive/Datasets/glove.6B/\"\n",
        "DATA_DESTINATION_PATH = join(ROOT, DATA_PATH)\n",
        "\n",
        "PATH_GLOVE_VECTORS = DATA_DESTINATION_PATH\n",
        "LIST_GLOVE_FILES = [\"glove.6B.50d\", \"glove.6B.100d\", \"glove.6B.200d\", \"glove.6B.300d\"]"
      ],
      "execution_count": 25,
      "outputs": []
    },
    {
      "cell_type": "code",
      "metadata": {
        "id": "X3Br1M3_JB1M",
        "colab_type": "code",
        "colab": {}
      },
      "source": [
        "def read_word_vectors_as_text(vector_file_index=1):\n",
        "    \"\"\"\n",
        "    Read GLOVE vectors from the appropriate file using vector_file_index as the\n",
        "    index over the list of file names stored in LIST_GLOVE_FILES.\n",
        "\n",
        "    Parameters\n",
        "    ----------\n",
        "    vector_file_index : int, optional\n",
        "        The index to select the name of the file to be read from the list of \n",
        "        files in LIST_GLOVE_FILES. The default is 1.\n",
        "\n",
        "    Returns\n",
        "    -------\n",
        "    word_vectors_text : str\n",
        "        The content of the file that is read or None is file doesn't exist'\n",
        "    \"\"\"\n",
        "    #Combining filename and path to create the final path of the file to be read    \n",
        "    word_vector_path = PATH_GLOVE_VECTORS + LIST_GLOVE_FILES[vector_file_index]\n",
        "    logging.info(\"Path of word vector file is :\"+ word_vector_path)\n",
        "    logging.info(\"Reading :\"+ word_vector_path)\n",
        "    \n",
        "    if os.path.exists(word_vector_path+\".txt\"):\n",
        "        with open(word_vector_path+\".txt\", \"r\", encoding='utf-8') as f:\n",
        "            try:\n",
        "                word_vectors_text = f.read()\n",
        "                if len(word_vectors_text):\n",
        "                    logging.info(\"file read successfully!\")\n",
        "                else:\n",
        "                    logging.warning(\"empty file read\")\n",
        "                return word_vectors_text\n",
        "            except Exception as e:\n",
        "                logging.error(traceback.format_exc(e))\n",
        "    else:\n",
        "        logging.warning(\"The file doesn't exist\")\n",
        "        return None"
      ],
      "execution_count": 26,
      "outputs": []
    },
    {
      "cell_type": "code",
      "metadata": {
        "id": "uYUhBoJuYHhj",
        "colab_type": "code",
        "colab": {}
      },
      "source": [
        "def convert_str_to_float(list1):\n",
        "    \"\"\"\n",
        "    Convert list of strings to its respective floating point numbers. \n",
        "\n",
        "    Parameters\n",
        "    ----------\n",
        "    list1 : list of str\n",
        "        Word vector in list of str format.\n",
        "\n",
        "    Returns\n",
        "    -------\n",
        "     : list of float\n",
        "        Word vector in list of float format.\n",
        "    \"\"\"\n",
        "    return [float(item) for item in list1]\n",
        "\n",
        "def add(list1, list2):\n",
        "    \"\"\"\n",
        "    Add two real-valued lists and return the resultant list\n",
        "\n",
        "    Parameters\n",
        "    ----------\n",
        "    list1 : list\n",
        "        Word vector in list of float.\n",
        "    list2 : list\n",
        "        Word vector in list of float.\n",
        "\n",
        "    Returns\n",
        "    -------\n",
        "     : list of float\n",
        "        List of resultant float\n",
        "        \n",
        "    \"\"\"\n",
        "    return [list1[i]+list2[i] for i in range(0, len(list1))]\n",
        "\n",
        "def sub(list1, list2):\n",
        "    \"\"\"\n",
        "    Subtract two real-valued lists and return the resultant list\n",
        "\n",
        "    Parameters\n",
        "    ----------\n",
        "    list1 : list\n",
        "        Word vector in list of float.\n",
        "    list2 : list\n",
        "        Word vector in list of float.\n",
        "\n",
        "    Returns\n",
        "    -------\n",
        "     : list of float\n",
        "        List of resultant float\n",
        "        \n",
        "    \"\"\"\n",
        "    return [list1[i]-list2[i] for i in range(0, len(list1))]"
      ],
      "execution_count": 32,
      "outputs": []
    },
    {
      "cell_type": "code",
      "metadata": {
        "id": "zNYBn7f_JNa3",
        "colab_type": "code",
        "colab": {}
      },
      "source": [
        "def create_word_vector_dictionary_from_text(word_vectors_text):\n",
        "    \"\"\"\n",
        "    create word vector for each word by parsing the text file \n",
        "\n",
        "    Parameters\n",
        "    ----------\n",
        "    word_vectors_text : str\n",
        "        Content of word to vector file in text format.\n",
        "\n",
        "    Returns\n",
        "    -------\n",
        "    word_vector_dict : dict\n",
        "        Dictionary with word as keys and value as its corrosponding vector.\n",
        "    \"\"\"\n",
        "    word_vector_dict={}\n",
        "    lines = word_vectors_text.split('\\n')\n",
        "    for line in lines:\n",
        "        temp = line.split(\" \")\n",
        "        word_vector_dict[temp[0]] = convert_str_to_float(temp[1:])\n",
        "    return word_vector_dict"
      ],
      "execution_count": 33,
      "outputs": []
    },
    {
      "cell_type": "code",
      "metadata": {
        "id": "UpUelHwmfAbC",
        "colab_type": "code",
        "colab": {}
      },
      "source": [
        "def find_most_similar_one(vec0, word_list):\n",
        "    \"\"\"\n",
        "    find the most closest word vector to the input vector and return the word\n",
        "\n",
        "    Parameters\n",
        "    ----------\n",
        "    vec0 : list of real-valued numbers\n",
        "        Word vector in list of float.\n",
        "    list2 : list of str\n",
        "        List of words whose vectors are used to construct vec0.\n",
        "\n",
        "    Returns\n",
        "    -------\n",
        "    best_word : str\n",
        "        The closest word to the input vector vec0    \n",
        "    \"\"\"\n",
        "    #Initialize with very large negative number\n",
        "    max_score=-100\n",
        "    best_word=\"\"\n",
        "\n",
        "    #Iterate over the entire word vector dictionary and retain the closest word so far\n",
        "    for item in word_vector_dict:\n",
        "      try:\n",
        "        #print (item)\n",
        "        if item not in word_list:\n",
        "          vec1 = convert_str_to_float(word_vector_dict[item])\n",
        "          sim_score = 1 - spatial.distance.cosine(vec1, vec0)\n",
        "          if sim_score > max_score:\n",
        "            max_score = sim_score\n",
        "            best_word = item\n",
        "          #print (item, sim_score)\n",
        "          #print (\"====>\",best_word, max_score)\n",
        "      except:\n",
        "        pass  \n",
        "\n",
        "    return best_word"
      ],
      "execution_count": 34,
      "outputs": []
    },
    {
      "cell_type": "code",
      "metadata": {
        "id": "tnF6kbfaxZ3P",
        "colab_type": "code",
        "colab": {}
      },
      "source": [
        "def convert_text_to_vec(text1):\n",
        "    \"\"\"\n",
        "    convert the input text to vector (like doc2vec) by averaging its constituent word vectors as given by GLOVE.\n",
        "\n",
        "    Parameters\n",
        "    ----------\n",
        "    text1 : str\n",
        "        Input text data\n",
        "\n",
        "    Returns\n",
        "    -------\n",
        "    doc2vec : list of floats\n",
        "        vector for the input text    \n",
        "    \"\"\"\n",
        "    words = text1.split(\" \")\n",
        "    vec_resultant = [0] * len(word_vector_dict['boy'])\n",
        "    count = 0\n",
        "    for item in words:\n",
        "      try:\n",
        "        vec_temp = word_vector_dict[item]\n",
        "        vec_resultant = add(vec_resultant, vec_temp)\n",
        "        count += 1\n",
        "      except:\n",
        "        pass\n",
        "    doc2vec = [item/count for item in vec_resultant]\n",
        "    return doc2vec"
      ],
      "execution_count": 36,
      "outputs": []
    },
    {
      "cell_type": "code",
      "metadata": {
        "id": "O73YffBNJP8Z",
        "colab_type": "code",
        "colab": {}
      },
      "source": [
        "if __name__ == \"__main__\":\n",
        "  #Read and store the word vectors in a dictionary data structure, alternatively DataFRame can be used\n",
        "  word_vectors_text = read_word_vectors_as_text(vector_file_index=3)\n",
        "  word_vector_dict = create_word_vector_dictionary_from_text(word_vectors_text)\n",
        "  del word_vectors_text"
      ],
      "execution_count": null,
      "outputs": []
    },
    {
      "cell_type": "code",
      "metadata": {
        "id": "jU3t4Lhpf-zI",
        "colab_type": "code",
        "colab": {}
      },
      "source": [
        "\"\"\"\n",
        "Find the related fourth word with the inter-relation of these 3 words  \n",
        "\"\"\"\n",
        "#Initialize 3 word vectors to find the fourth related words\n",
        "word_list = [\"plant\",\"seed\",\"human\"]\n",
        "vec1 = word_vector_dict[word_list[0]]\n",
        "vec2 = word_vector_dict[word_list[1]]\n",
        "vec3 = word_vector_dict[word_list[2]]  \n",
        "\n",
        "# Delhi - India + Germany ===> It infers \"Berlin\"\n",
        "vec_new = add(sub(vec1,vec2),vec3)\n",
        "inferred_word = find_most_similar_one(vec_new, word_list)\n",
        "print (\"The inferred related word is:\", inferred_word)"
      ],
      "execution_count": null,
      "outputs": []
    },
    {
      "cell_type": "code",
      "metadata": {
        "id": "3hGIGSNREUd9",
        "colab_type": "code",
        "colab": {}
      },
      "source": [
        "  \"\"\"\n",
        "  Find similary score between any two words. Score of 100 indicates the words are \n",
        "  exactly related and a score of 0 indicate that the words are not at all related  \n",
        "  \"\"\"\n",
        "  vec1 = word_vector_dict[\"spoon\"]\n",
        "  vec2 = word_vector_dict[\"forest\"]\n",
        "  similarity_score = 1 - spatial.distance.cosine(vec1,vec2)\n",
        "  print(\"Similarity Score is =\", ((similarity_score+1.0)/2.0)*100, \"%\")\n",
        "  print(\"Similarity Score is =\", (similarity_score)*100, \"%\")\n",
        "\n"
      ],
      "execution_count": null,
      "outputs": []
    },
    {
      "cell_type": "code",
      "metadata": {
        "id": "vvUKPuKhEWeF",
        "colab_type": "code",
        "colab": {
          "base_uri": "https://localhost:8080/",
          "height": 34
        },
        "outputId": "2be0d7a1-ec8c-4efa-f058-64dec3517b19"
      },
      "source": [
        "  \"\"\"\n",
        "  Find similary score between any text pieces. Score of 100 indicates the texts are \n",
        "  exactly related and a score of 0 indicate that the texts are not at all related  \n",
        "  \"\"\"\n",
        "  text1 = \"the girl semms beautiful\"\n",
        "  text2 = \"lady looks anything but pretty\"\n",
        "  vec1 = convert_text_to_vec(text1) #the function uses a naive doc2vec extension of GLOVE word vectors\n",
        "  vec2 = convert_text_to_vec(text2)\n",
        "  similarity_score = 1 - spatial.distance.cosine(vec1,vec2)\n",
        "  #print(\"Similarity Score is =\", ((similarity_score+1.0)/2.0)*100, \"%\")\n",
        "  print(\"Similarity Score is =\", (similarity_score)*100, \"%\")\n"
      ],
      "execution_count": 70,
      "outputs": [
        {
          "output_type": "stream",
          "text": [
            "Similarity Score is = 70.1981200538789 %\n"
          ],
          "name": "stdout"
        }
      ]
    },
    {
      "cell_type": "code",
      "metadata": {
        "id": "CHVQ0DyBMiaM",
        "colab_type": "code",
        "colab": {
          "base_uri": "https://localhost:8080/",
          "height": 118
        },
        "outputId": "18e6689a-ab83-485c-aa60-ff50f47dba93"
      },
      "source": [
        "!git add -A\n",
        "!git commit -a -m \"completed all functions\""
      ],
      "execution_count": 20,
      "outputs": [
        {
          "output_type": "stream",
          "text": [
            "[master f8c664a] completed all functions\n",
            " 5 files changed, 29 insertions(+), 32 deletions(-)\n",
            " delete mode 100644 key1\n",
            " delete mode 100644 key1.pub\n",
            " create mode 100644 key2\n",
            " create mode 100644 key2.pub\n"
          ],
          "name": "stdout"
        }
      ]
    },
    {
      "cell_type": "code",
      "metadata": {
        "id": "_sdKX_bozHNi",
        "colab_type": "code",
        "colab": {
          "base_uri": "https://localhost:8080/",
          "height": 50
        },
        "outputId": "3fb96064-f12d-45e8-ff54-2a66fa5c8dcb"
      },
      "source": [
        "!git remote add origin \"https://github.com/abhijitsahoo0790/text_similarity_using_GLOVE.git\"\n",
        "!git push -u origin master"
      ],
      "execution_count": 24,
      "outputs": [
        {
          "output_type": "stream",
          "text": [
            "fatal: remote origin already exists.\n",
            "fatal: could not read Username for 'https://github.com': No such device or address\n"
          ],
          "name": "stdout"
        }
      ]
    },
    {
      "cell_type": "code",
      "metadata": {
        "id": "ZXiy7Z01v7jl",
        "colab_type": "code",
        "colab": {
          "base_uri": "https://localhost:8080/",
          "height": 353
        },
        "outputId": "73d466f4-2e63-4029-e9ca-88349266d541"
      },
      "source": [
        "!ssh-keygen"
      ],
      "execution_count": 17,
      "outputs": [
        {
          "output_type": "stream",
          "text": [
            "Generating public/private rsa key pair.\n",
            "Enter file in which to save the key (/root/.ssh/id_rsa): key2\n",
            "Enter passphrase (empty for no passphrase): \n",
            "Enter same passphrase again: \n",
            "Your identification has been saved in key2.\n",
            "Your public key has been saved in key2.pub.\n",
            "The key fingerprint is:\n",
            "SHA256:BRgPIsi44UJ3kFPNpdgImS7F/Ebmga0LST0x4iMpzRU root@802a9b8e1e35\n",
            "The key's randomart image is:\n",
            "+---[RSA 2048]----+\n",
            "|oo==Eo=oo.       |\n",
            "|=B./oB==..       |\n",
            "|B=B Xo.o. .      |\n",
            "|==.o +   .       |\n",
            "|. o o   S        |\n",
            "|   .             |\n",
            "|                 |\n",
            "|                 |\n",
            "|                 |\n",
            "+----[SHA256]-----+\n"
          ],
          "name": "stdout"
        }
      ]
    },
    {
      "cell_type": "code",
      "metadata": {
        "id": "gQ9huzntwLP_",
        "colab_type": "code",
        "colab": {
          "base_uri": "https://localhost:8080/",
          "height": 54
        },
        "outputId": "de6c77cc-069c-4ff7-acec-fe232f1501d5"
      },
      "source": [
        "!cat key2.pub"
      ],
      "execution_count": 18,
      "outputs": [
        {
          "output_type": "stream",
          "text": [
            "ssh-rsa AAAAB3NzaC1yc2EAAAADAQABAAABAQDkFLKPHO/qJ1SAEwjXA+OkeYjK3HJS2rHJgLmsn081HTyZL0T7ihAMKSQUmzFV7DScQsoc8tPwxyUyz/g5aiAPnNHrDO3HrE6rxNw5bFclF3ebuOojI2OLU8QX+ox4fs5Z49Z6eCnIfkp/SA67oEr77X4Zihy0Iu/CgiJ14W2C1s1zf7ygiX+6yRMmnUEqllIErtGotlQImJC8WPsrMnxgyNWb+Ll+k/N03xNNUpLPkysVNA4v++9QXoUu7mAUzi6KLKq3aJ6CgEKJ47LHWRs4AQ3fFr6qYs4RZbS4RjbDgS+uECNdU+gVv2zq7ttXlxxwvc4D/L3oEBYKz0f+uxRl root@802a9b8e1e35\n"
          ],
          "name": "stdout"
        }
      ]
    },
    {
      "cell_type": "code",
      "metadata": {
        "id": "E55cn564zK6O",
        "colab_type": "code",
        "colab": {
          "base_uri": "https://localhost:8080/",
          "height": 34
        },
        "outputId": "1441f9bc-7da2-4aa2-d5be-2d938ff81c12"
      },
      "source": [
        "!ssh -T git@github.com"
      ],
      "execution_count": 19,
      "outputs": [
        {
          "output_type": "stream",
          "text": [
            "Host key verification failed.\r\n"
          ],
          "name": "stdout"
        }
      ]
    }
  ]
}