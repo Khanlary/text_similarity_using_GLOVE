{
  "nbformat": 4,
  "nbformat_minor": 0,
  "metadata": {
    "colab": {
      "name": "main_text_similarity_GLOVE.ipynb",
      "provenance": [],
      "collapsed_sections": [],
      "authorship_tag": "ABX9TyNiT4KuLbjVfEWQVAkUGW/g",
      "include_colab_link": true
    },
    "kernelspec": {
      "name": "python3",
      "display_name": "Python 3"
    }
  },
  "cells": [
    {
      "cell_type": "markdown",
      "metadata": {
        "id": "view-in-github",
        "colab_type": "text"
      },
      "source": [
        "<a href=\"https://colab.research.google.com/github/abhijitsahoo0790/text_similarity_using_GLOVE/blob/master/main_text_similarity_GLOVE.ipynb\" target=\"_parent\"><img src=\"https://colab.research.google.com/assets/colab-badge.svg\" alt=\"Open In Colab\"/></a>"
      ]
    },
    {
      "cell_type": "code",
      "metadata": {
        "id": "WW-geQp6p-9D",
        "colab_type": "code",
        "colab": {}
      },
      "source": [
        "from os.path import join\n",
        "from google.colab import drive\n",
        "\n",
        "ROOT = \"/content/drive\"\n",
        "drive.mount(ROOT)"
      ],
      "execution_count": null,
      "outputs": []
    },
    {
      "cell_type": "code",
      "metadata": {
        "id": "Ms0KyBasqL7L",
        "colab_type": "code",
        "colab": {}
      },
      "source": [
        "\"\"\"\n",
        "For creating a new project in GitHub, it will throw error if it is executed after the project dir is created\n",
        "\"\"\"\n",
        "PROJ = \"My Drive/Colab Notebooks/text_similarity_using_GLOVE\" # This is a custom path.\n",
        "PROJECT_PATH = join(ROOT, PROJ)\n",
        "!mkdir \"{PROJECT_PATH}\"\n",
        "!git clone https://github.com/abhijitsahoo0790/text_similarity_using_GLOVE.git \"{PROJECT_PATH}\"\n"
      ],
      "execution_count": null,
      "outputs": []
    },
    {
      "cell_type": "code",
      "metadata": {
        "id": "BOhFTnyr8BdU",
        "colab_type": "code",
        "colab": {}
      },
      "source": [
        "#This will download and unzip the data in the desired filder as specified by DATA_PATH\n",
        "DATA_PATH = \"My Drive/Datasets/glove.6B\"\n",
        "DATA_DESTINATION_PATH = join(ROOT, DATA_PATH)\n",
        "!mkdir \"{DATA_DESTINATION_PATH}\"\n",
        "!wget http://nlp.stanford.edu/data/glove.6B.zip - -P \"{DATA_DESTINATION_PATH}\"\n",
        "!unzip glove.6B.zip -d \"{DATA_DESTINATION_PATH}\""
      ],
      "execution_count": null,
      "outputs": []
    },
    {
      "cell_type": "code",
      "metadata": {
        "id": "7tQV4ZIsr85Q",
        "colab_type": "code",
        "colab": {}
      },
      "source": [
        "\"\"\"\n",
        "For updating an existing project from GitHub\n",
        "\"\"\"\n",
        "PROJ = \"My Drive/Colab Notebooks/text_similarity_using_GLOVE\" # This is a custom path.\n",
        "PROJECT_PATH = join(ROOT, PROJ)\n",
        "%cd \"{PROJECT_PATH}\"\n",
        "!git pull origin master"
      ],
      "execution_count": null,
      "outputs": []
    },
    {
      "cell_type": "code",
      "metadata": {
        "id": "w99fua5c8tYk",
        "colab_type": "code",
        "colab": {}
      },
      "source": [
        "!git config --global user.email \"abhijitsahoo0790@gmail.com\"\n",
        "!git config --global user.name \"Abhijit\""
      ],
      "execution_count": null,
      "outputs": []
    },
    {
      "cell_type": "code",
      "metadata": {
        "id": "CHVQ0DyBMiaM",
        "colab_type": "code",
        "colab": {
          "base_uri": "https://localhost:8080/",
          "height": 67
        },
        "outputId": "a994df77-1023-41a9-9a64-fe5dba804677"
      },
      "source": [
        "!git add -A\n",
        "!git commit -a -m \"added all two functions to the notebook from python file\""
      ],
      "execution_count": 48,
      "outputs": [
        {
          "output_type": "stream",
          "text": [
            "[master b348e81] added all two functions to the notebook from python file\n",
            " 2 files changed, 1 insertion(+), 1 deletion(-)\n",
            " rewrite log.txt (100%)\n"
          ],
          "name": "stdout"
        }
      ]
    },
    {
      "cell_type": "code",
      "metadata": {
        "id": "_keCgMpFIrVB",
        "colab_type": "code",
        "colab": {}
      },
      "source": [
        "import pandas as pd\n",
        "import numpy as np\n",
        "import copy\n",
        "import math\n",
        "import os\n",
        "import sys\n",
        "import traceback\n",
        "import logging\n",
        "logging.basicConfig(format='%(asctime)s %(levelname)-8s %(message)s', \n",
        "                    filename='log.txt', filemode='w', level=logging.DEBUG, \n",
        "                    datefmt='%Y-%m-%d %H:%M:%S')"
      ],
      "execution_count": 30,
      "outputs": []
    },
    {
      "cell_type": "code",
      "metadata": {
        "id": "oFlP8H3eItgp",
        "colab_type": "code",
        "colab": {}
      },
      "source": [
        "ROOT = \"/content/drive\"\n",
        "DATA_PATH = \"My Drive/Datasets/glove.6B/\"\n",
        "DATA_DESTINATION_PATH = join(ROOT, DATA_PATH)\n",
        "\n",
        "PATH_GLOVE_VECTORS = DATA_DESTINATION_PATH\n",
        "LIST_GLOVE_FILES = [\"glove.6B.50d\", \"glove.6B.100d\", \"glove.6B.200d\", \"glove.6B.300d\"]"
      ],
      "execution_count": 39,
      "outputs": []
    },
    {
      "cell_type": "code",
      "metadata": {
        "id": "X3Br1M3_JB1M",
        "colab_type": "code",
        "colab": {}
      },
      "source": [
        "def read_word_vectors_as_text(vector_file_index=1):\n",
        "    \"\"\"\n",
        "    Read GLOVE vectors from the appropriate file using vector_file_index as the\n",
        "    index over the list of file names stored in LIST_GLOVE_FILES.\n",
        "\n",
        "    Parameters\n",
        "    ----------\n",
        "    vector_file_index : int, optional\n",
        "        The index to select the name of the file to be read from the list of \n",
        "        files in LIST_GLOVE_FILES. The default is 1.\n",
        "\n",
        "    Returns\n",
        "    -------\n",
        "    word_vectors_text : str\n",
        "        The content of the file that is read or None is file doesn't exist'\n",
        "    \"\"\"\n",
        "    #Combining filename and path to create the final path of the file to be read    \n",
        "    word_vector_path = PATH_GLOVE_VECTORS + LIST_GLOVE_FILES[vector_file_index]\n",
        "    logging.info(\"Path of word vector file is :\"+ word_vector_path)\n",
        "    logging.info(\"Reading :\"+ word_vector_path)\n",
        "    \n",
        "    if os.path.exists(word_vector_path+\".txt\"):\n",
        "        with open(word_vector_path+\".txt\", \"r\", encoding='utf-8') as f:\n",
        "            try:\n",
        "                word_vectors_text = f.read()\n",
        "                if len(word_vectors_text):\n",
        "                    logging.info(\"file read successfully!\")\n",
        "                else:\n",
        "                    logging.warning(\"empty file read\")\n",
        "                return word_vectors_text\n",
        "            except Exception as e:\n",
        "                logging.error(traceback.format_exc(e))\n",
        "    else:\n",
        "        logging.warning(\"The file doesn't exist\")\n",
        "        return None"
      ],
      "execution_count": 43,
      "outputs": []
    },
    {
      "cell_type": "code",
      "metadata": {
        "id": "zNYBn7f_JNa3",
        "colab_type": "code",
        "colab": {}
      },
      "source": [
        "def create_word_vector_dictionary_from_text(word_vectors_text):\n",
        "    \"\"\"\n",
        "    create word vector for each word by parsing the text file \n",
        "\n",
        "    Parameters\n",
        "    ----------\n",
        "    word_vectors_text : str\n",
        "        Content of word to vector file in text format.\n",
        "\n",
        "    Returns\n",
        "    -------\n",
        "    word_vector_dict : dict\n",
        "        Dictionary with word as keys and value as its corrosponding vector.\n",
        "    \"\"\"\n",
        "    word_vector_dict={}\n",
        "    lines = word_vectors_text.split('\\n')\n",
        "    for line in lines:\n",
        "        temp = line.split(\" \")\n",
        "        word_vector_dict[temp[0]] = temp[1:]\n",
        "    return word_vector_dict"
      ],
      "execution_count": 44,
      "outputs": []
    },
    {
      "cell_type": "code",
      "metadata": {
        "id": "O73YffBNJP8Z",
        "colab_type": "code",
        "colab": {}
      },
      "source": [
        "word_vectors_text = read_word_vectors_as_text(vector_file_index=1)\n",
        "word_vector_dict = create_word_vector_dictionary_from_text(word_vectors_text)"
      ],
      "execution_count": 47,
      "outputs": []
    },
    {
      "cell_type": "code",
      "metadata": {
        "id": "fddMTj9uLM77",
        "colab_type": "code",
        "colab": {}
      },
      "source": [
        "word_vector_dict[\"cause\"]"
      ],
      "execution_count": null,
      "outputs": []
    }
  ]
}